{
 "cells": [
  {
   "cell_type": "code",
   "execution_count": null,
   "metadata": {},
   "outputs": [],
   "source": [
    "import json\n",
    "from rdkit import Chem, DataStructs\n",
    "from rdkit.Chem import AllChem\n",
    "from tqdm import tqdm"
   ]
  },
  {
   "cell_type": "code",
   "execution_count": null,
   "metadata": {},
   "outputs": [],
   "source": [
    "pi = 'cress_output/0_out.json'   #import the results sorted by CReSS\n",
    "fi = open(pi, 'r', encoding='utf8')\n",
    "context = json.load(fi)\n",
    "fi.close()"
   ]
  },
  {
   "cell_type": "code",
   "execution_count": null,
   "metadata": {},
   "outputs": [],
   "source": [
    "smi_s = \"N#Cc1c(N)nc(c2c(OC)cc(OC)cc2)cc1c3ccc(Cl)cc3\"    #target smiles\n",
    "mol1 = Chem.MolFromSmiles(smi_s)\n",
    "fp1 = AllChem.GetMorganFingerprintAsBitVect(mol1,2,nBits=1024)"
   ]
  },
  {
   "cell_type": "code",
   "execution_count": null,
   "metadata": {
    "scrolled": true
   },
   "outputs": [],
   "source": [
    "point = 0\n",
    "\n",
    "for res in context[0][\"result\"]:\n",
    "    point += 1\n",
    "    try:\n",
    "        smi = res[\"smiles\"]\n",
    "        mol2 = Chem.MolFromSmiles(smi)\n",
    "        fp2 = AllChem.GetMorganFingerprintAsBitVect(mol2,2,nBits=1024)\n",
    "        tanimoto = DataStructs.FingerprintSimilarity(fp1, fp2)\n",
    "        if tanimoto == 1:\n",
    "            print(point)\n",
    "            print(smi)\n",
    "    except:\n",
    "        None"
   ]
  },
  {
   "cell_type": "code",
   "execution_count": null,
   "metadata": {},
   "outputs": [],
   "source": [
    "smi_g = \"COc1cc(OC)c(c2c(C#N)c(N)nc(c3ccc(Cl)cc3)c2)cc1\"    #most similar smiles provided by CMGNet\n",
    "mol1 = Chem.MolFromSmiles(smi_g)\n",
    "fp1 = AllChem.GetMorganFingerprintAsBitVect(mol1,2,nBits=1024)"
   ]
  },
  {
   "cell_type": "code",
   "execution_count": null,
   "metadata": {},
   "outputs": [],
   "source": [
    "point2 = 0\n",
    "\n",
    "for res in context[0][\"result\"]:\n",
    "    point2 += 1\n",
    "    smi = res[\"smiles\"]\n",
    "    mol2 = Chem.MolFromSmiles(smi)\n",
    "    fp2 = AllChem.GetMorganFingerprintAsBitVect(mol2,2,nBits=1024)\n",
    "    tanimoto = DataStructs.FingerprintSimilarity(fp1, fp2)\n",
    "    if tanimoto == 1:\n",
    "        print(point2)\n",
    "        print(smi)"
   ]
  },
  {
   "cell_type": "code",
   "execution_count": null,
   "metadata": {},
   "outputs": [],
   "source": []
  }
 ],
 "metadata": {
  "kernelspec": {
   "display_name": "Python [conda env:my-rdkit-env]",
   "language": "python",
   "name": "conda-env-my-rdkit-env-py"
  },
  "language_info": {
   "codemirror_mode": {
    "name": "ipython",
    "version": 3
   },
   "file_extension": ".py",
   "mimetype": "text/x-python",
   "name": "python",
   "nbconvert_exporter": "python",
   "pygments_lexer": "ipython3",
   "version": "3.7.11"
  }
 },
 "nbformat": 4,
 "nbformat_minor": 4
}
