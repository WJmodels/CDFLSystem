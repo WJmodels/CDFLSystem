{
 "cells": [
  {
   "cell_type": "code",
   "execution_count": null,
   "metadata": {
    "scrolled": true
   },
   "outputs": [],
   "source": [
    "import json\n",
    "\n",
    "pi = 'case_out.json'  #import smiles from CMGNet\n",
    "\n",
    "fi = open(pi, 'r', encoding='utf8')\n",
    "context = json.load(fi)\n",
    "context_G_nmr = sorted(context, key=lambda context: context[\"index\"])"
   ]
  },
  {
   "cell_type": "code",
   "execution_count": null,
   "metadata": {},
   "outputs": [],
   "source": [
    "i = 0                             # input the number of case in test\n",
    "txt = []\n",
    "con = context_G_nmr[i]\n",
    "print(con[\"smiles\"][0])\n",
    "print()\n",
    "for c in con[\"result\"]:\n",
    "    txt.append(c[\"res\"])\n",
    "#     print(c[\"res\"])"
   ]
  },
  {
   "cell_type": "code",
   "execution_count": null,
   "metadata": {},
   "outputs": [],
   "source": [
    "f = open(\"smi/\"+str(i)+\".smi\",'w')   #output a file of the results\n",
    "for it in txt:\n",
    "    f.write(str(it)+'\\n')\n",
    "f.close()"
   ]
  },
  {
   "cell_type": "code",
   "execution_count": null,
   "metadata": {},
   "outputs": [],
   "source": [
    "list_ = []\n",
    "\n",
    "with open(\"smi/\"+str(i)+\".smi\", \"r\") as f: \n",
    "    data = f.readlines()\n",
    "    for it in data:\n",
    "        i2 = it.replace('\\n', '')\n",
    "        list_.append(i2)\n",
    "        \n",
    "print(len(list_))"
   ]
  },
  {
   "cell_type": "code",
   "execution_count": null,
   "metadata": {},
   "outputs": [],
   "source": [
    "from rdkit import Chem\n",
    "from rdkit.Chem import Draw\n",
    "\n",
    "num = 0\n",
    "mols = []\n",
    "\n",
    "for smi in list_:\n",
    "    mol = Chem.MolFromSmiles(smi)\n",
    "    mols.append(mol)"
   ]
  },
  {
   "cell_type": "code",
   "execution_count": null,
   "metadata": {},
   "outputs": [],
   "source": [
    "from rdkit import rdBase, Chem\n",
    "def get_new_smiles(old_smiles):\n",
    "    old_mol = Chem.MolFromSmiles(old_smiles)\n",
    "    if old_mol is None:\n",
    "        return [old_smiles]\n",
    "    len_mol = old_mol.GetNumAtoms()\n",
    "    li = []\n",
    "    for index in range(len_mol):\n",
    "        try:\n",
    "            new_smiles = Chem.MolToSmiles(old_mol, rootedAtAtom=index)\n",
    "            li.append(new_smiles)\n",
    "        except:\n",
    "            pass\n",
    "    return list(set(li))"
   ]
  },
  {
   "cell_type": "code",
   "execution_count": null,
   "metadata": {},
   "outputs": [],
   "source": [
    "amplification_smi_list = []      #amplification_smi\n",
    "\n",
    "for item in list_:\n",
    "    item_amp_list = get_new_smiles(item)\n",
    "    amplification_smi_list += item_amp_list\n",
    "    \n",
    "print(len(amplification_smi_list))\n",
    "\n",
    "# for i in amplification_smi_list:\n",
    "#     print(i)    "
   ]
  },
  {
   "cell_type": "code",
   "execution_count": null,
   "metadata": {},
   "outputs": [],
   "source": [
    "f = open(\"smi/\"+str(i)+\"_amp.smi\",'w')\n",
    "for i in amplification_smi_list:\n",
    "    f.write(str(i)+'\\n')\n",
    "f.close()"
   ]
  },
  {
   "cell_type": "code",
   "execution_count": null,
   "metadata": {},
   "outputs": [],
   "source": []
  }
 ],
 "metadata": {
  "kernelspec": {
   "display_name": "Python [conda env:my-rdkit-env]",
   "language": "python",
   "name": "conda-env-my-rdkit-env-py"
  },
  "language_info": {
   "codemirror_mode": {
    "name": "ipython",
    "version": 3
   },
   "file_extension": ".py",
   "mimetype": "text/x-python",
   "name": "python",
   "nbconvert_exporter": "python",
   "pygments_lexer": "ipython3",
   "version": "3.7.11"
  }
 },
 "nbformat": 4,
 "nbformat_minor": 4
}
