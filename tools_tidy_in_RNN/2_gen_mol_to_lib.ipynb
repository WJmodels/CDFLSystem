{
 "cells": [
  {
   "cell_type": "code",
   "execution_count": null,
   "metadata": {},
   "outputs": [],
   "source": [
    "import json\n",
    "from rdkit import Chem, DataStructs\n",
    "from rdkit.Chem import AllChem\n",
    "from tqdm import tqdm"
   ]
  },
  {
   "cell_type": "code",
   "execution_count": null,
   "metadata": {},
   "outputs": [],
   "source": [
    "i = 0"
   ]
  },
  {
   "cell_type": "code",
   "execution_count": null,
   "metadata": {},
   "outputs": [],
   "source": [
    "list_ = []\n",
    "\n",
    "with open(\"generate_mol/\"+str(i)+\"_amp_train_1000epoch_5000mol.smi\", \"r\") as f:   # inmport the generated smiles by SampRNN\n",
    "    data = f.readlines()\n",
    "    for i1 in data:\n",
    "        i2 = i1.replace('\\n', '')\n",
    "        list_.append(i2)\n",
    "print(len(list_))"
   ]
  },
  {
   "cell_type": "code",
   "execution_count": null,
   "metadata": {},
   "outputs": [],
   "source": [
    "pi = 'epoch_199_loss_0.067575_1_nmr_ex_reranked_removeunquali_removerepeat.json'   \n",
    "fi = open(pi, 'r', encoding='utf8')\n",
    "old_context= json.load(fi)\n",
    "fi.close()\n",
    "context = sorted(old_context, key=lambda context: context[\"index\"])"
   ]
  },
  {
   "cell_type": "code",
   "execution_count": null,
   "metadata": {},
   "outputs": [],
   "source": [
    "list_all = list_\n",
    "for t in context[i][\"result\"]:\n",
    "    list_all.append(t[\"res\"])\n",
    "#     print(t[\"res\"])\n",
    "print(len(list_all))\n",
    "# print(list_all)"
   ]
  },
  {
   "cell_type": "code",
   "execution_count": null,
   "metadata": {},
   "outputs": [],
   "source": [
    "unique_list = []\n",
    "\n",
    "for smi in list_all:\n",
    "    mole = Chem.MolFromSmiles(smi)\n",
    "    smi = Chem.MolToSmiles(mole,isomericSmiles = False)\n",
    "    if smi in unique_list:\n",
    "        continue\n",
    "    else:\n",
    "        unique_list.append(smi)\n",
    "\n",
    "\n",
    "print(len(unique_list))"
   ]
  },
  {
   "cell_type": "code",
   "execution_count": null,
   "metadata": {},
   "outputs": [],
   "source": [
    "data = []     # output the library for CReSS\n",
    "\n",
    "for it in unique_list:\n",
    "    single = []\n",
    "    single.append(it)\n",
    "    dic = {}\n",
    "    dic[\"smiles\"] = single\n",
    "    data.append(dic)\n",
    "    \n",
    "# print(data[0:10])"
   ]
  },
  {
   "cell_type": "code",
   "execution_count": null,
   "metadata": {},
   "outputs": [],
   "source": [
    "po = \"for_cress_lib/\"+str(i)+\"_RNN_5000mol_lib.json\"\n",
    "json_file = open(po, 'w')\n",
    "json.dump(data, json_file, indent=4) \n",
    "json_file.close()"
   ]
  },
  {
   "cell_type": "code",
   "execution_count": null,
   "metadata": {},
   "outputs": [],
   "source": [
    "#建立一个cress的输入文件\n",
    "input_ = []\n",
    "with open(\"test_set_ex.json\") as inputData:\n",
    "    for line in inputData:\n",
    "        input_.append(line.rstrip(';\\n'))\n",
    "item = []\n",
    "item.append(input_[i])\n",
    "\n",
    "f = open(\"cress_input/\"+str(i)+\".json\",'w')\n",
    "for i in item:\n",
    "    f.write(str(i)+'\\n')\n",
    "f.close()"
   ]
  },
  {
   "cell_type": "code",
   "execution_count": null,
   "metadata": {},
   "outputs": [],
   "source": []
  }
 ],
 "metadata": {
  "kernelspec": {
   "display_name": "Python [conda env:my-rdkit-env]",
   "language": "python",
   "name": "conda-env-my-rdkit-env-py"
  },
  "language_info": {
   "codemirror_mode": {
    "name": "ipython",
    "version": 3
   },
   "file_extension": ".py",
   "mimetype": "text/x-python",
   "name": "python",
   "nbconvert_exporter": "python",
   "pygments_lexer": "ipython3",
   "version": "3.7.11"
  }
 },
 "nbformat": 4,
 "nbformat_minor": 4
}
